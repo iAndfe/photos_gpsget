{
 "cells": [
  {
   "cell_type": "code",
   "execution_count": 2,
   "metadata": {},
   "outputs": [],
   "source": [
    "from gps_extractor import gps_extractor\n",
    "photos = gps_extractor()\n",
    "photos.to_csv(\"photos.csv\")"
   ]
  }
 ],
 "metadata": {
  "interpreter": {
   "hash": "c96d0aef2350058e44e0488f76ee770d4ef2ebd3d28a2ff630102a2512748a41"
  },
  "kernelspec": {
   "display_name": "Python 3.10.4 64-bit",
   "language": "python",
   "name": "python3"
  },
  "language_info": {
   "codemirror_mode": {
    "name": "ipython",
    "version": 3
   },
   "file_extension": ".py",
   "mimetype": "text/x-python",
   "name": "python",
   "nbconvert_exporter": "python",
   "pygments_lexer": "ipython3",
   "version": "3.10.4"
  },
  "orig_nbformat": 4
 },
 "nbformat": 4,
 "nbformat_minor": 2
}
